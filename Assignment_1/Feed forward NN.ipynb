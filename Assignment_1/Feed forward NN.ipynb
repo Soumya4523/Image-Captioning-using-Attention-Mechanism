{
 "cells": [
  {
   "cell_type": "code",
   "execution_count": 1,
   "id": "361e8775-4784-4e87-b294-903375afaa6d",
   "metadata": {},
   "outputs": [],
   "source": [
    "import torch\n",
    "import torch.nn as nn\n",
    "import torchvision\n",
    "import torchvision.transforms as transforms\n",
    "import matplotlib.pyplot as plt"
   ]
  },
  {
   "cell_type": "code",
   "execution_count": 2,
   "id": "46cdd5e9-3aea-4dc2-affc-59d28c7de212",
   "metadata": {},
   "outputs": [],
   "source": [
    "input_size = 784\n",
    "hidden_size = 100\n",
    "num_classes = 10\n",
    "num_epochs = 2\n",
    "batch_size = 100       \n",
    "learning_rate = 0.01 \n"
   ]
  },
  {
   "cell_type": "code",
   "execution_count": 3,
   "id": "666c05c3-b4b3-48d4-b46f-4c5e07a4fbc6",
   "metadata": {},
   "outputs": [],
   "source": [
    "train_dataset = torchvision.datasets.MNIST(root='./data',train = True,transform = transforms.ToTensor(), download= True)"
   ]
  },
  {
   "cell_type": "code",
   "execution_count": 4,
   "id": "109638df-580b-4dcc-8e37-72405a5b4a36",
   "metadata": {},
   "outputs": [
    {
     "data": {
      "text/plain": [
       "Dataset MNIST\n",
       "    Number of datapoints: 60000\n",
       "    Root location: ./data\n",
       "    Split: Train\n",
       "    StandardTransform\n",
       "Transform: ToTensor()"
      ]
     },
     "execution_count": 4,
     "metadata": {},
     "output_type": "execute_result"
    }
   ],
   "source": [
    "train_dataset"
   ]
  },
  {
   "cell_type": "code",
   "execution_count": 5,
   "id": "463e8ed9-63dd-45b2-b0cb-f194b0db7496",
   "metadata": {},
   "outputs": [],
   "source": [
    "test_dataset = torchvision.datasets.MNIST(root='./data',train = False,transform = transforms.ToTensor())\n",
    "\n",
    "train_loader = torch.utils.data.DataLoader(dataset=train_dataset, batch_size=batch_size, shuffle = True)\n",
    "test_loader = torch.utils.data.DataLoader(dataset=test_dataset, batch_size=batch_size, shuffle = False)"
   ]
  },
  {
   "cell_type": "code",
   "execution_count": 6,
   "id": "aaf1206e-228b-4d60-8729-75d4a0178c8a",
   "metadata": {},
   "outputs": [
    {
     "name": "stdout",
     "output_type": "stream",
     "text": [
      "torch.Size([100, 1, 28, 28]) torch.Size([100])\n",
      "600\n"
     ]
    }
   ],
   "source": [
    "examples = iter(train_loader)\n",
    "samples, labels = next(examples)\n",
    "print(samples.shape,labels.shape)\n",
    "# next(examples)\n",
    "print(len(train_loader))\n"
   ]
  },
  {
   "cell_type": "code",
   "execution_count": 7,
   "id": "575d211d-8147-4641-a16d-8df7806fb595",
   "metadata": {},
   "outputs": [
    {
     "data": {
      "image/png": "[encoded data removed]",
      "text/plain": [
       "<Figure size 640x480 with 6 Axes>"
      ]
     },
     "metadata": {},
     "output_type": "display_data"
    }
   ],
   "source": [
    "for i in range(6):\n",
    "    plt.subplot(2,3,i+1)\n",
    "    plt.imshow(samples[i][0], cmap='gray')\n",
    "plt.show()"
   ]
  },
  {
   "cell_type": "code",
   "execution_count": 8,
   "id": "04ba7a66-fbe9-411a-af64-7ab1b4103540",
   "metadata": {},
   "outputs": [],
   "source": [
    "class NeuralNet(nn.Module):\n",
    "    def __init__(self,input_size, hidden_size, num_classes):\n",
    "        super(NeuralNet, self).__init__()\n",
    "        self.l1 = nn.Linear(input_size, hidden_size)\n",
    "        self.relu = nn.ReLU()\n",
    "        self.l2 = nn.Linear(hidden_size, num_classes)\n",
    "\n",
    "    def forward(self, x):\n",
    "        out = self.l1(x)\n",
    "        out = self.relu(out)\n",
    "        out = self.l2(out)\n",
    "        return out\n",
    "\n",
    "### Model\n",
    "model = NeuralNet(input_size, hidden_size, num_classes)"
   ]
  },
  {
   "cell_type": "code",
   "execution_count": 9,
   "id": "e14b2feb-60fa-4003-8700-8e40cb0a58a8",
   "metadata": {},
   "outputs": [],
   "source": [
    "# Loss and optimizer\n",
    "\n",
    "criterion = nn.CrossEntropyLoss()\n",
    "optimizer = torch.optim.Adam(model.parameters(), lr=learning_rate)"
   ]
  },
  {
   "cell_type": "code",
   "execution_count": 10,
   "id": "d43f5862-ab06-4add-855c-a4ff779eb985",
   "metadata": {},
   "outputs": [
    {
     "name": "stdout",
     "output_type": "stream",
     "text": [
      "epoch: 1/2, step 100/600, loss = 0.2315\n",
      "epoch: 1/2, step 200/600, loss = 0.2892\n",
      "epoch: 1/2, step 300/600, loss = 0.1612\n",
      "epoch: 1/2, step 400/600, loss = 0.0711\n",
      "epoch: 1/2, step 500/600, loss = 0.1052\n",
      "epoch: 1/2, step 600/600, loss = 0.2723\n",
      "epoch: 2/2, step 100/600, loss = 0.1186\n",
      "epoch: 2/2, step 200/600, loss = 0.0602\n",
      "epoch: 2/2, step 300/600, loss = 0.0426\n",
      "epoch: 2/2, step 400/600, loss = 0.1346\n",
      "epoch: 2/2, step 500/600, loss = 0.0630\n",
      "epoch: 2/2, step 600/600, loss = 0.1692\n"
     ]
    }
   ],
   "source": [
    "#training loop\n",
    "n_total_steps = len(train_loader)\n",
    "for epoch in range(num_epochs):\n",
    "    for i, (images,labels) in enumerate(train_loader):\n",
    "        #100 , 1 ,28 , 28\n",
    "        # 100, 784\n",
    "        images = images.reshape(-1, 28*28)\n",
    "\n",
    "        #forward pass\n",
    "        outputs = model(images)\n",
    "        loss = criterion(outputs , labels)\n",
    "\n",
    "        #backward pass\n",
    "        optimizer.zero_grad()\n",
    "        loss.backward()\n",
    "        optimizer.step()\n",
    "\n",
    "        if (i+1)%100 == 0:\n",
    "           print(f'epoch: {epoch+1}/{num_epochs}, step {i+1}/{n_total_steps}, loss = {loss.item():.4f}') \n",
    "        "
   ]
  },
  {
   "cell_type": "code",
   "execution_count": 11,
   "id": "149ec3cf-34e7-485f-a43d-2dfd71b63b2a",
   "metadata": {},
   "outputs": [
    {
     "name": "stdout",
     "output_type": "stream",
     "text": [
      "accuracy = 96.56\n"
     ]
    }
   ],
   "source": [
    "# test\n",
    "with torch.no_grad():\n",
    "    n_correct = 0\n",
    "    n_samples = 0\n",
    "    for images, labels in test_loader:\n",
    "        images = images.reshape(-1,28*28)\n",
    "        outputs = model(images)\n",
    "\n",
    "        #value, index\n",
    "        _, predictions = torch.max(outputs, 1)\n",
    "        n_samples += labels.shape[0]\n",
    "        n_correct += (predictions == labels).sum().item()\n",
    "\n",
    "    acc = 100.0*(n_correct/n_samples)\n",
    "    print(f'accuracy = {acc}')"
   ]
  },
  {
   "cell_type": "code",
   "execution_count": 12,
   "id": "44361e22-0035-44db-89a0-a86447ae4950",
   "metadata": {},
   "outputs": [],
   "source": [
    "# batch size = 100 => accuracu = 96.99\n",
    "# batch size = 200 => accuracy = 96.55\n",
    "# batch size = 300 => accuracy = 96.69\n",
    "#lr = 0.001 => accuracy = 95.38\n",
    "#lr = 0.01 => accuracy = 96.99\n",
    "#lr = 0.02 => accuracy = 95.26\n",
    "# hidden size = 100 => accuracy = 95.82\n",
    "# hidden size = 200 => accuracy = 95.61\n",
    "# hidden size = 300 => accuracy = 96.28\n",
    "\n",
    "### So our model predicts with best accuracy under following hyper parameters:\n",
    "        #input_size = 784\n",
    "        #hidden_size = 100\n",
    "        # num_classes = 10\n",
    "        # num_epochs = 2\n",
    "        # batch_size = 100       \n",
    "        # learning_rate = 0.01 "
   ]
  }
 ],
 "metadata": {
  "kernelspec": {
   "display_name": "Python 3 (ipykernel)",
   "language": "python",
   "name": "python3"
  },
  "language_info": {
   "codemirror_mode": {
    "name": "ipython",
    "version": 3
   },
   "file_extension": ".py",
   "mimetype": "text/x-python",
   "name": "python",
   "nbconvert_exporter": "python",
   "pygments_lexer": "ipython3",
   "version": "3.8.0"
  }
 },
 "nbformat": 4,
 "nbformat_minor": 5
}
