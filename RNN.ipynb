{
  "nbformat": 4,
  "nbformat_minor": 0,
  "metadata": {
    "colab": {
      "provenance": [],
      "authorship_tag": "ABX9TyMzJD9dMsrRlOWH6ndpW1kl",
      "include_colab_link": true
    },
    "kernelspec": {
      "name": "python3",
      "display_name": "Python 3"
    },
    "language_info": {
      "name": "python"
    }
  },
  "cells": [
    {
      "cell_type": "markdown",
      "metadata": {
        "id": "view-in-github",
        "colab_type": "text"
      },
      "source": [
        "<a href=\"https://colab.research.google.com/github/Soumya4523/Image-Captioning-using-Attention-Mechanism/blob/main/RNN.ipynb\" target=\"_parent\"><img src=\"https://colab.research.google.com/assets/colab-badge.svg\" alt=\"Open In Colab\"/></a>"
      ]
    },
    {
      "cell_type": "code",
      "source": [
        "import numpy as np\n",
        "import pandas as pd\n",
        "from keras.preprocessing.text import one_hot\n",
        "from keras.preprocessing.sequence import pad_sequences\n",
        "from keras.models import Sequential\n",
        "from keras.callbacks import Callback\n",
        "from sklearn.model_selection import train_test_split\n",
        "from keras.layers import Dense,Embedding,LSTM\n"
      ],
      "metadata": {
        "id": "X8c-FX2Ya9uy"
      },
      "execution_count": 2,
      "outputs": []
    },
    {
      "cell_type": "code",
      "source": [
        "df = pd.read_csv(r\"/content/IMDB Dataset.csv\", nrows=100)\n",
        "df[\"sentiment\"].replace({\"positive\": 1, \"negative\": 0}, inplace=True)\n",
        "\n",
        "x = np.array(df[\"review\"].values)\n",
        "y = np.array(df[\"sentiment\"].values)\n",
        "\n",
        "x_filtered = []\n",
        "\n",
        "for review in x:\n",
        "\n",
        "    #lowercasing the sentence\n",
        "    review = review.lower()\n",
        "\n",
        "    # removing punctuations from sentence\n",
        "    for i in review:\n",
        "        punc = '''  !()-[]{};:'\"\\,<>./?@#$%^&*_~  '''\n",
        "        if i in punc :\n",
        "            review = review.replace(i, \" \")\n",
        "\n",
        "    x_filtered.append(review)\n",
        "\n",
        "print(\"Data Preparation Stage-1 completed !\")"
      ],
      "metadata": {
        "colab": {
          "base_uri": "https://localhost:8080/"
        },
        "id": "eP_TCKTYbGxp",
        "outputId": "057e2e3f-914e-4f64-b1ce-8865e187aa90"
      },
      "execution_count": 11,
      "outputs": [
        {
          "output_type": "stream",
          "name": "stdout",
          "text": [
            "Data Preparation Stage-1 completed !\n"
          ]
        }
      ]
    },
    {
      "cell_type": "code",
      "source": [
        "# One-Hot Encoding each sentence\n",
        "vocalbulary_size = 5000\n",
        "onehot_encoded = [one_hot(review,vocalbulary_size) for review in x_filtered]\n",
        "\n",
        "# Padding each encoded sentence to have a max_length=500\n",
        "max_length=500\n",
        "x_padded = pad_sequences(onehot_encoded,max_length,padding=\"post\")\n",
        "\n",
        "x_train,x_test,y_train,y_test = train_test_split(x_padded,y,test_size=0.2)\n",
        "\n",
        "print(\"Data Preparation Stage-2 completed !\")"
      ],
      "metadata": {
        "colab": {
          "base_uri": "https://localhost:8080/"
        },
        "id": "EJ9UZHD5bU4D",
        "outputId": "cc7c0221-5d8c-48c5-ce8c-a1065de13dff"
      },
      "execution_count": 12,
      "outputs": [
        {
          "output_type": "stream",
          "name": "stdout",
          "text": [
            "Data Preparation Stage-2 completed !\n"
          ]
        }
      ]
    },
    {
      "cell_type": "code",
      "source": [
        "model = Sequential()\n",
        "embeded_vector_size = 35\n",
        "model.add(Embedding(vocalbulary_size,embeded_vector_size,input_length=max_length))\n",
        "model.add(LSTM(100))\n",
        "model.add(Dense(1,activation=\"sigmoid\"))\n",
        "\n",
        "model.compile(optimizer='adam', loss='binary_crossentropy',metrics=[\"accuracy\"])\n",
        "\n",
        "print(model.summary())\n",
        "print(\"Model Creation Completed !\")\n",
        "\n",
        ""
      ],
      "metadata": {
        "colab": {
          "base_uri": "https://localhost:8080/"
        },
        "id": "X0V4kxIQe4qN",
        "outputId": "c5c13e45-fe04-499f-c7f3-0618c63e2ceb"
      },
      "execution_count": 13,
      "outputs": [
        {
          "output_type": "stream",
          "name": "stdout",
          "text": [
            "Model: \"sequential\"\n",
            "_________________________________________________________________\n",
            " Layer (type)                Output Shape              Param #   \n",
            "=================================================================\n",
            " embedding (Embedding)       (None, 500, 35)           175000    \n",
            "                                                                 \n",
            " lstm (LSTM)                 (None, 100)               54400     \n",
            "                                                                 \n",
            " dense (Dense)               (None, 1)                 101       \n",
            "                                                                 \n",
            "=================================================================\n",
            "Total params: 229501 (896.49 KB)\n",
            "Trainable params: 229501 (896.49 KB)\n",
            "Non-trainable params: 0 (0.00 Byte)\n",
            "_________________________________________________________________\n",
            "None\n",
            "Model Creation Completed !\n"
          ]
        }
      ]
    },
    {
      "cell_type": "code",
      "source": [
        "model.fit(x_train,y_train,epochs=10)"
      ],
      "metadata": {
        "colab": {
          "base_uri": "https://localhost:8080/"
        },
        "id": "IXp45uW0e9Jr",
        "outputId": "0696fe0e-f8c7-4fca-d7d7-dccd253f5a0a"
      },
      "execution_count": 15,
      "outputs": [
        {
          "output_type": "stream",
          "name": "stdout",
          "text": [
            "Epoch 1/10\n",
            "3/3 [==============================] - 1s 495ms/step - loss: 0.6868 - accuracy: 0.6125\n",
            "Epoch 2/10\n",
            "3/3 [==============================] - 2s 504ms/step - loss: 0.6813 - accuracy: 0.6125\n",
            "Epoch 3/10\n",
            "3/3 [==============================] - 2s 525ms/step - loss: 0.6764 - accuracy: 0.6125\n",
            "Epoch 4/10\n",
            "3/3 [==============================] - 1s 335ms/step - loss: 0.6785 - accuracy: 0.6250\n",
            "Epoch 5/10\n",
            "3/3 [==============================] - 1s 325ms/step - loss: 0.6730 - accuracy: 0.6250\n",
            "Epoch 6/10\n",
            "3/3 [==============================] - 1s 305ms/step - loss: 0.6814 - accuracy: 0.6250\n",
            "Epoch 7/10\n",
            "3/3 [==============================] - 1s 311ms/step - loss: 0.6731 - accuracy: 0.6250\n",
            "Epoch 8/10\n",
            "3/3 [==============================] - 1s 309ms/step - loss: 0.6731 - accuracy: 0.6250\n",
            "Epoch 9/10\n",
            "3/3 [==============================] - 1s 305ms/step - loss: 0.6709 - accuracy: 0.6250\n",
            "Epoch 10/10\n",
            "3/3 [==============================] - 1s 319ms/step - loss: 0.6674 - accuracy: 0.6250\n"
          ]
        },
        {
          "output_type": "execute_result",
          "data": {
            "text/plain": [
              "<keras.src.callbacks.History at 0x7a9cee6f4d30>"
            ]
          },
          "metadata": {},
          "execution_count": 15
        }
      ]
    },
    {
      "cell_type": "code",
      "source": [
        "score = model.evaluate(x_test,y_test)\n",
        "print(score)"
      ],
      "metadata": {
        "colab": {
          "base_uri": "https://localhost:8080/"
        },
        "id": "QnUvottKhUnU",
        "outputId": "967afe18-bf00-4398-d25c-fcf22303fa3c"
      },
      "execution_count": 16,
      "outputs": [
        {
          "output_type": "stream",
          "name": "stdout",
          "text": [
            "1/1 [==============================] - 1s 601ms/step - loss: 0.6357 - accuracy: 0.7500\n",
            "[0.6356683969497681, 0.75]\n"
          ]
        }
      ]
    },
    {
      "cell_type": "code",
      "source": [
        "model.save(\"IMDB_sentiment_analysis\")"
      ],
      "metadata": {
        "id": "jrc6utd8hzpQ"
      },
      "execution_count": 17,
      "outputs": []
    },
    {
      "cell_type": "code",
      "source": [
        "from keras.models import load_model\n",
        "\n",
        "trained_model = load_model(r\"/content/IMDB_sentiment_analysis\")\n",
        "predicted = trained_model.predict(x_test)[2]\n",
        "\n",
        "sentiment = 1 if predicted > 0.6 else 0\n",
        "\n",
        "print(\"PREDICTED : \",sentiment)\n",
        "print(\"ACTUAL : \",y_test[2])\n"
      ],
      "metadata": {
        "colab": {
          "base_uri": "https://localhost:8080/"
        },
        "id": "DTtEs1jwi7A-",
        "outputId": "f1b8909c-b2f6-4d64-aeb8-b08071187c73"
      },
      "execution_count": 26,
      "outputs": [
        {
          "output_type": "stream",
          "name": "stdout",
          "text": [
            "1/1 [==============================] - 1s 745ms/step\n",
            "PREDICTED :  0\n",
            "ACTUAL :  0\n"
          ]
        }
      ]
    },
    {
      "cell_type": "code",
      "source": [
        "def get_sentiment(sentence: str):\n",
        "    if isinstance(sentence, (str)):\n",
        "        pass\n",
        "    else:\n",
        "        raise Exception(\"Input needs to be of type 'str' \")\n",
        "\n",
        "    # filtering the sentence\n",
        "    sentence = sentence.lower()\n",
        "\n",
        "    punc = '''!()-[]{};:'\"\\, <>./?@#$%^&*_~'''\n",
        "\n",
        "    for word in sentence:\n",
        "        if word in punc:\n",
        "            sentence = sentence.replace(word, \" \")\n",
        "\n",
        "    # Loading the saved trained model.\n",
        "    from keras.models import load_model\n",
        "\n",
        "    trained_model = load_model(r\"/content/IMDB_sentiment_analysis\")\n",
        "\n",
        "    predicted = trained_model.predict(x_test)[2]\n",
        "    sentiment = 1 if predicted >= 0.6 else 0\n",
        "\n",
        "    if sentiment == 1:\n",
        "        print(\"Positive\")\n",
        "    else:\n",
        "        print(\"Negative\")\n",
        "\n",
        "    return sentiment\n",
        "\n",
        "\n",
        "get_sentiment(\"That movie was really good!\")"
      ],
      "metadata": {
        "colab": {
          "base_uri": "https://localhost:8080/"
        },
        "id": "dGj7Pf-2i-4G",
        "outputId": "172e8565-5bf7-44ac-867d-a284024d99f9"
      },
      "execution_count": 23,
      "outputs": [
        {
          "output_type": "stream",
          "name": "stdout",
          "text": [
            "1/1 [==============================] - 1s 509ms/step\n",
            "Negative\n"
          ]
        },
        {
          "output_type": "execute_result",
          "data": {
            "text/plain": [
              "0"
            ]
          },
          "metadata": {},
          "execution_count": 23
        }
      ]
    },
    {
      "cell_type": "code",
      "source": [],
      "metadata": {
        "id": "3sogG5yIjIvl"
      },
      "execution_count": null,
      "outputs": []
    }
  ]
}